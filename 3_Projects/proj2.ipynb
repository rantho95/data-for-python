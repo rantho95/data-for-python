{
 "cells": [
  {
   "cell_type": "markdown",
   "id": "f2e67a16",
   "metadata": {},
   "source": [
    "Skills Count"
   ]
  },
  {
   "cell_type": "code",
   "execution_count": null,
   "id": "8e36e339",
   "metadata": {},
   "outputs": [],
   "source": []
  }
 ],
 "metadata": {
  "kernelspec": {
   "display_name": "myenv",
   "language": "python",
   "name": "python3"
  },
  "language_info": {
   "name": "python",
   "version": "3.10.18"
  }
 },
 "nbformat": 4,
 "nbformat_minor": 5
}
